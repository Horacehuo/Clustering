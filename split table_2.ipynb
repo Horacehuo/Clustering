{
 "cells": [
  {
   "cell_type": "code",
   "execution_count": 233,
   "metadata": {},
   "outputs": [],
   "source": [
    "# import package \n",
    "import pandas as pd\n",
    "import numpy as np\n",
    "from numpy import linalg as LA\n",
    "import copy\n",
    "import plotly.figure_factory as ff\n",
    "import plotly.plotly as py"
   ]
  },
  {
   "cell_type": "code",
   "execution_count": 211,
   "metadata": {},
   "outputs": [],
   "source": [
    "# creating data with size 1000\n",
    "\n",
    "player_id=[\"Player_\"+str(x+1) for x in np.arange(1000)]\n",
    "\n",
    "# create a sample csv file called player for use \n",
    "players = pd.DataFrame({'Player_id':player_id ,\n",
    "                  'Skill_A': np.random.randint(low=1, high=10, size=(1000,)),\n",
    "                   'Skill_B':np.random.randint(low=1, high=10, size=(1000,)),\n",
    "                   'Skill_C':np.random.randint(low=1, high=10, size=(1000,))\n",
    "                  })"
   ]
  },
  {
   "cell_type": "code",
   "execution_count": null,
   "metadata": {},
   "outputs": [],
   "source": [
    "#export data to csv\n",
    "players=players.set_index('Player_id')\n",
    "players.to_csv(\"players.csv\")"
   ]
  },
  {
   "cell_type": "code",
   "execution_count": 212,
   "metadata": {},
   "outputs": [],
   "source": [
    "#import data to dataframe called players\n",
    "players=pd.read_csv(\"players.csv\")"
   ]
  },
  {
   "cell_type": "code",
   "execution_count": null,
   "metadata": {},
   "outputs": [],
   "source": []
  },
  {
   "cell_type": "code",
   "execution_count": 8,
   "metadata": {},
   "outputs": [],
   "source": [
    "############algorithm for getting Kmeans function. Kmeans function \n",
    "############can get the best the criteria on which we can use to split the players into teams\n",
    "def get_labels(points, centroids):\n",
    "    labels = []\n",
    "    for point in points:\n",
    "        distances = [LA.norm(point - centroid) for centroid in centroids]\n",
    "        labels.append(np.argmin([distances]))\n",
    "    return np.array(labels)\n",
    "\n",
    "def get_centroids(points, labels, k):\n",
    "    centroids = []\n",
    "    for label in range(k):\n",
    "        centroids.append(np.mean(points[np.where(labels==label)], axis=0))\n",
    "    return centroids\n",
    "        \n",
    "def converged(old_centroids, centroids):\n",
    "    return np.array_equal(old_centroids, centroids)\n",
    "\n",
    "\n",
    "\n",
    "\n",
    "def kmeans(points, k):\n",
    "    # Initialize centroids randomly\n",
    "    centroids = points[np.random.randint(low=0, high=points.shape[0], size=k)]\n",
    "    \n",
    "    # keeping track of the number of iterations\n",
    "    iterations = 0\n",
    "    old_centroids = None\n",
    "    \n",
    "    while not converged(old_centroids, centroids):\n",
    "        old_centroids = centroids\n",
    "        iterations += 1\n",
    "        \n",
    "        # Assign labels to each datapoint based on centroids\n",
    "        labels = get_labels(points, centroids)\n",
    "        \n",
    "        # Assign centroids based on datapoint labels\n",
    "        centroids = get_centroids(points, labels, k)\n",
    "        \n",
    "    # We can get the labels too by calling getLabels(dataSet, centroids)\n",
    "    return centroids"
   ]
  },
  {
   "cell_type": "code",
   "execution_count": 9,
   "metadata": {},
   "outputs": [],
   "source": [
    "#############################################################\n",
    "\n",
    "def get_assign_team(final_label,k):\n",
    "      return [i for i in np.arange(k) if list(final_label).count(i)>len(points)//k][0]\n",
    "\n",
    "\n",
    "def get_index_final_label(co_final_label,assign_team):\n",
    "    #co_final_label=copy.copy(final_label)\n",
    "    index=[i for i, e in enumerate(co_final_label) if e == assign_team]\n",
    "    return index\n",
    "\n",
    "def get_index_to_replace(co_final_label,index,assign_team):\n",
    "    co_final_label=co_final_label*-1\n",
    "    for x in index:\n",
    "        co_final_label[x]=LA.norm(points[x] - centers[assign_team])\n",
    "    relabel=[]\n",
    "    for i in np.arange(len(index)-len(points)//team):\n",
    "        max_index=list(co_final_label).index(max(co_final_label))\n",
    "        relabel.append(max_index)\n",
    "        co_final_label[max_index]=-100\n",
    "    return relabel\n",
    "\n",
    "def get_players_to_replace(points,relabel):\n",
    "    repoints=[]\n",
    "    for x in relabel:\n",
    "        repoints.append(points[x])\n",
    "    return repoints\n",
    "\n",
    "def get_new_team_label(repoints,centers):\n",
    "    replace_label=get_labels(repoints, centers)\n",
    "    return replace_label\n",
    "\n",
    "\n",
    "def update_final_label(final_label,index_to_replace,new_team_label):\n",
    "    for x in np.arange(len(index_to_replace)):\n",
    "         final_label[index_to_replace[x]]=new_team_label[x]\n",
    "    return final_label\n",
    "\n",
    "\n",
    "\n",
    "\n",
    "\n",
    "##finally, this is the function which reteams the players for equality in team\n",
    "def update(final_label,team):\n",
    "    for i in np.arange(team-1):\n",
    "        \n",
    "        assign_team=get_assign_team(final_label,team)\n",
    "    #\n",
    "        co_final_label=copy.copy(final_label)\n",
    "    #\n",
    "        index_final_label=get_index_final_label(co_final_label,assign_team)\n",
    "    #\n",
    "        index_to_replace=get_index_to_replace(co_final_label,index_final_label,assign_team)\n",
    "    #\n",
    "        players_to_replace=get_players_to_replace(points,index_to_replace)\n",
    "    #\n",
    "        centers[assign_team]=np.array([-20,-20,-20])\n",
    "    #\n",
    "        new_team_label=get_new_team_label(players_to_replace,centers)\n",
    "    #\n",
    "        update=update_final_label(final_label,index_to_replace,new_team_label)\n",
    "    return update"
   ]
  },
  {
   "cell_type": "code",
   "execution_count": 237,
   "metadata": {},
   "outputs": [],
   "source": [
    "########## this part is the functions that for the case have extra data( 1001 players, but 5 teams!)\n",
    "def show_table(mydata):\n",
    "    table = ff.create_table(mydata)\n",
    "    return py.iplot(table, filename='')\n",
    "\n",
    "def fil_data(points,team):\n",
    "    res=len(points)%team\n",
    "    div=len(points)//team\n",
    "    extra_player=[]\n",
    "    if res>0:\n",
    "        l=list(points)\n",
    "        for i in np.arange(res):\n",
    "            l.pop(div+i)\n",
    "            extra_player.append(l[div+i])\n",
    "        points=np.array(l)\n",
    "    return [points, extra_player]\n",
    "\n",
    "def add_extra_player_label(extra_player,team_label_tabel):\n",
    "    if len(extra_player)>0:\n",
    "        a=list(team_label_tabel)\n",
    "        extra_label=get_new_team_label(extra_player,centers)\n",
    "        for i in extra_label:\n",
    "            a.append(i)\n",
    "        team_label_tabel=np.array(a)\n",
    "    return team_label_tabel"
   ]
  },
  {
   "cell_type": "code",
   "execution_count": null,
   "metadata": {},
   "outputs": [],
   "source": [
    "########## this part is the function for generating tables as required \n",
    "def show_table(mydata):\n",
    "    table = ff.create_table(mydata)\n",
    "    return py.iplot(table, filename='')\n",
    "\n",
    "def show_table(mydata):\n",
    "    table = ff.create_table(mydata)\n",
    "    return py.iplot(table, filename='')\n",
    "\n",
    "def add_label(players,team_label_tabel):\n",
    "    players['Label'] = pd.Series(team_label_tabel, index=players.index)\n",
    "    #return mydata.sort_values(by=['cluster'])\n",
    "    return players\n",
    "\n",
    "def split(label_players):\n",
    "    n=[]\n",
    "    for i in np.arange(int(team)):\n",
    "        n.append(label_players[label_players.Label==i])\n",
    "    return n\n",
    "\n",
    "def agg(semi_team):\n",
    "    team_n=semi_team.Label.min()\n",
    "    df2 = pd.DataFrame({'Player_id':['Total'],\n",
    "                'Skill_A':semi_team.Skill_A.sum(),\n",
    "                'Skill_B':semi_team.Skill_B.sum(),\n",
    "                'Skill_C':semi_team.Skill_C.sum(),\n",
    "                     })\n",
    "    n=semi_team.drop(columns=['Label']).append(df2)\n",
    "    #n.set_index('Player_id')\n",
    "    n.rename(columns={'Player_id':'Team_'+str(team_n+1)}, inplace=True)\n",
    "    #n.set_index('Player_id')\n",
    "    #n.index.names = ['Team_'+str(team_n+1)]\n",
    "    return n\n",
    "\n",
    "def player_in_team(label_players):\n",
    "    label_players['Team']=label_players.Label+1\n",
    "    mydata_team=label_players[['Team',\"Label\"]].groupby(['Team']).count()\n",
    "    mydata_team.rename(columns={'Label':'num_of_player'}, inplace=True)\n",
    "    return mydata_team\n",
    "\n",
    "def add_to_players(a,b,c,players):\n",
    "    centers=kmeans(main_player, team)\n",
    "    new=get_new_team_label([[int(a),int(b),int(c)]],centers)\n",
    "    players.set_index('Player_id')\n",
    "    df2 = pd.DataFrame({'Player_id':['player_'+str(players.Player_id.count()+1)],\n",
    "                'Skill_A':int(a),\n",
    "                'Skill_B':int(b),\n",
    "                'Skill_C':int(c),\n",
    "                 'Label':new\n",
    "                   })\n",
    "    n=players.append(df2)[[\"Player_id\",'Skill_A','Skill_B','Skill_C','Label']]\n",
    "    return n  \n",
    "    "
   ]
  },
  {
   "cell_type": "code",
   "execution_count": null,
   "metadata": {},
   "outputs": [],
   "source": []
  },
  {
   "cell_type": "code",
   "execution_count": 250,
   "metadata": {},
   "outputs": [
    {
     "data": {
      "text/html": [
       "<div>\n",
       "<style scoped>\n",
       "    .dataframe tbody tr th:only-of-type {\n",
       "        vertical-align: middle;\n",
       "    }\n",
       "\n",
       "    .dataframe tbody tr th {\n",
       "        vertical-align: top;\n",
       "    }\n",
       "\n",
       "    .dataframe thead th {\n",
       "        text-align: right;\n",
       "    }\n",
       "</style>\n",
       "<table border=\"1\" class=\"dataframe\">\n",
       "  <thead>\n",
       "    <tr style=\"text-align: right;\">\n",
       "      <th></th>\n",
       "      <th>Player_id</th>\n",
       "      <th>Skill_A</th>\n",
       "      <th>Skill_B</th>\n",
       "      <th>Skill_C</th>\n",
       "      <th>Label</th>\n",
       "    </tr>\n",
       "  </thead>\n",
       "  <tbody>\n",
       "    <tr>\n",
       "      <th>0</th>\n",
       "      <td>Player_1</td>\n",
       "      <td>2</td>\n",
       "      <td>7</td>\n",
       "      <td>6</td>\n",
       "      <td>3</td>\n",
       "    </tr>\n",
       "    <tr>\n",
       "      <th>1</th>\n",
       "      <td>Player_2</td>\n",
       "      <td>3</td>\n",
       "      <td>2</td>\n",
       "      <td>4</td>\n",
       "      <td>3</td>\n",
       "    </tr>\n",
       "    <tr>\n",
       "      <th>2</th>\n",
       "      <td>Player_3</td>\n",
       "      <td>8</td>\n",
       "      <td>7</td>\n",
       "      <td>8</td>\n",
       "      <td>1</td>\n",
       "    </tr>\n",
       "    <tr>\n",
       "      <th>3</th>\n",
       "      <td>Player_4</td>\n",
       "      <td>8</td>\n",
       "      <td>1</td>\n",
       "      <td>7</td>\n",
       "      <td>3</td>\n",
       "    </tr>\n",
       "    <tr>\n",
       "      <th>4</th>\n",
       "      <td>Player_5</td>\n",
       "      <td>1</td>\n",
       "      <td>9</td>\n",
       "      <td>7</td>\n",
       "      <td>3</td>\n",
       "    </tr>\n",
       "  </tbody>\n",
       "</table>\n",
       "</div>"
      ],
      "text/plain": [
       "  Player_id  Skill_A  Skill_B  Skill_C  Label\n",
       "0  Player_1        2        7        6      3\n",
       "1  Player_2        3        2        4      3\n",
       "2  Player_3        8        7        8      1\n",
       "3  Player_4        8        1        7      3\n",
       "4  Player_5        1        9        7      3"
      ]
     },
     "execution_count": 250,
     "metadata": {},
     "output_type": "execute_result"
    }
   ],
   "source": [
    "#have a look at data\n",
    "#show_table(players.head())\n",
    "players.head()"
   ]
  },
  {
   "cell_type": "code",
   "execution_count": null,
   "metadata": {},
   "outputs": [],
   "source": []
  },
  {
   "cell_type": "code",
   "execution_count": 214,
   "metadata": {},
   "outputs": [
    {
     "name": "stdout",
     "output_type": "stream",
     "text": [
      "How many teams do you want?5\n"
     ]
    }
   ],
   "source": [
    "#console to interact\n",
    "team = input(\"How many teams do you want?\")\n",
    "if int(team)<0:\n",
    "    print('Please renter a numebr')\n",
    "team=int(team)"
   ]
  },
  {
   "cell_type": "code",
   "execution_count": null,
   "metadata": {},
   "outputs": [],
   "source": []
  },
  {
   "cell_type": "code",
   "execution_count": 215,
   "metadata": {},
   "outputs": [],
   "source": [
    "#since number of players are equal if we have 1001 players and wanna 5 teams, \n",
    "# 1000 are main_player and the 1 are extra_playe\n",
    "player = players.values[:,1:]\n",
    "main_player=fil_data(player,team)[0]\n",
    "extra_player=fil_data(player,team)[1]"
   ]
  },
  {
   "cell_type": "code",
   "execution_count": 216,
   "metadata": {},
   "outputs": [],
   "source": [
    "#use kmeans() function to get standard of clustering each team\n",
    "# use get_final_labels() to get the labels of team players are belonging for main players(numbers of each team are different)\n",
    "centers=kmeans(main_player, team)\n",
    "final_label=get_labels(main_player,centers)"
   ]
  },
  {
   "cell_type": "code",
   "execution_count": null,
   "metadata": {},
   "outputs": [],
   "source": []
  },
  {
   "cell_type": "code",
   "execution_count": 217,
   "metadata": {},
   "outputs": [],
   "source": [
    "# sue update() function to reteam the players based on the result of get_final_labels() functions\n",
    "# in order to make number of players are equal\n",
    "team_label_tabel=update(final_label,team)"
   ]
  },
  {
   "cell_type": "code",
   "execution_count": 218,
   "metadata": {},
   "outputs": [
    {
     "name": "stdout",
     "output_type": "stream",
     "text": [
      "200\n",
      "200\n",
      "200\n",
      "200\n",
      "200\n"
     ]
    }
   ],
   "source": [
    "# check equality of number of players\n",
    "for i in np.arange(team):\n",
    "    print (list(team_label_tabel).count(i))"
   ]
  },
  {
   "cell_type": "code",
   "execution_count": 219,
   "metadata": {},
   "outputs": [],
   "source": [
    "# in case we have extra players( for example 1001 players but 5 teams)\n",
    "#add the extra players to the team based on given algorithm \n",
    "team_label_tabel=add_extra_player_label(extra_player,team_label_tabel)"
   ]
  },
  {
   "cell_type": "code",
   "execution_count": null,
   "metadata": {},
   "outputs": [],
   "source": []
  },
  {
   "cell_type": "code",
   "execution_count": 220,
   "metadata": {},
   "outputs": [
    {
     "name": "stdout",
     "output_type": "stream",
     "text": [
      "200\n",
      "200\n",
      "200\n",
      "200\n",
      "200\n"
     ]
    }
   ],
   "source": [
    "# check again, since we only have 1000 players, there is no difference \n",
    "for i in np.arange(team):\n",
    "    print (list(team_label_tabel).count(i))"
   ]
  },
  {
   "cell_type": "code",
   "execution_count": null,
   "metadata": {},
   "outputs": [],
   "source": [
    "# show the splited tables"
   ]
  },
  {
   "cell_type": "code",
   "execution_count": 222,
   "metadata": {},
   "outputs": [],
   "source": [
    "label_players=add_label(players,team_label_tabel)"
   ]
  },
  {
   "cell_type": "code",
   "execution_count": 223,
   "metadata": {},
   "outputs": [],
   "source": [
    "list_of_team=split(label_players)\n",
    "agg(list_of_team[1]).tail()"
   ]
  },
  {
   "cell_type": "code",
   "execution_count": 251,
   "metadata": {},
   "outputs": [
    {
     "data": {
      "text/html": [
       "<div>\n",
       "<style scoped>\n",
       "    .dataframe tbody tr th:only-of-type {\n",
       "        vertical-align: middle;\n",
       "    }\n",
       "\n",
       "    .dataframe tbody tr th {\n",
       "        vertical-align: top;\n",
       "    }\n",
       "\n",
       "    .dataframe thead th {\n",
       "        text-align: right;\n",
       "    }\n",
       "</style>\n",
       "<table border=\"1\" class=\"dataframe\">\n",
       "  <thead>\n",
       "    <tr style=\"text-align: right;\">\n",
       "      <th></th>\n",
       "      <th>Team_2</th>\n",
       "      <th>Skill_A</th>\n",
       "      <th>Skill_B</th>\n",
       "      <th>Skill_C</th>\n",
       "    </tr>\n",
       "  </thead>\n",
       "  <tbody>\n",
       "    <tr>\n",
       "      <th>980</th>\n",
       "      <td>Player_981</td>\n",
       "      <td>7</td>\n",
       "      <td>7</td>\n",
       "      <td>1</td>\n",
       "    </tr>\n",
       "    <tr>\n",
       "      <th>985</th>\n",
       "      <td>Player_986</td>\n",
       "      <td>9</td>\n",
       "      <td>7</td>\n",
       "      <td>9</td>\n",
       "    </tr>\n",
       "    <tr>\n",
       "      <th>996</th>\n",
       "      <td>Player_997</td>\n",
       "      <td>8</td>\n",
       "      <td>8</td>\n",
       "      <td>8</td>\n",
       "    </tr>\n",
       "    <tr>\n",
       "      <th>998</th>\n",
       "      <td>Player_999</td>\n",
       "      <td>7</td>\n",
       "      <td>6</td>\n",
       "      <td>4</td>\n",
       "    </tr>\n",
       "    <tr>\n",
       "      <th>0</th>\n",
       "      <td>Total</td>\n",
       "      <td>1498</td>\n",
       "      <td>1366</td>\n",
       "      <td>1035</td>\n",
       "    </tr>\n",
       "  </tbody>\n",
       "</table>\n",
       "</div>"
      ],
      "text/plain": [
       "         Team_2  Skill_A  Skill_B  Skill_C\n",
       "980  Player_981        7        7        1\n",
       "985  Player_986        9        7        9\n",
       "996  Player_997        8        8        8\n",
       "998  Player_999        7        6        4\n",
       "0         Total     1498     1366     1035"
      ]
     },
     "execution_count": 251,
     "metadata": {},
     "output_type": "execute_result"
    }
   ],
   "source": [
    "#show_table(agg(list_of_team[1]).tail())\n",
    "agg(list_of_team[1]).tail()"
   ]
  },
  {
   "cell_type": "code",
   "execution_count": 252,
   "metadata": {},
   "outputs": [
    {
     "data": {
      "text/html": [
       "<div>\n",
       "<style scoped>\n",
       "    .dataframe tbody tr th:only-of-type {\n",
       "        vertical-align: middle;\n",
       "    }\n",
       "\n",
       "    .dataframe tbody tr th {\n",
       "        vertical-align: top;\n",
       "    }\n",
       "\n",
       "    .dataframe thead th {\n",
       "        text-align: right;\n",
       "    }\n",
       "</style>\n",
       "<table border=\"1\" class=\"dataframe\">\n",
       "  <thead>\n",
       "    <tr style=\"text-align: right;\">\n",
       "      <th></th>\n",
       "      <th>Team_3</th>\n",
       "      <th>Skill_A</th>\n",
       "      <th>Skill_B</th>\n",
       "      <th>Skill_C</th>\n",
       "    </tr>\n",
       "  </thead>\n",
       "  <tbody>\n",
       "    <tr>\n",
       "      <th>981</th>\n",
       "      <td>Player_982</td>\n",
       "      <td>1</td>\n",
       "      <td>1</td>\n",
       "      <td>7</td>\n",
       "    </tr>\n",
       "    <tr>\n",
       "      <th>983</th>\n",
       "      <td>Player_984</td>\n",
       "      <td>2</td>\n",
       "      <td>1</td>\n",
       "      <td>4</td>\n",
       "    </tr>\n",
       "    <tr>\n",
       "      <th>988</th>\n",
       "      <td>Player_989</td>\n",
       "      <td>4</td>\n",
       "      <td>2</td>\n",
       "      <td>6</td>\n",
       "    </tr>\n",
       "    <tr>\n",
       "      <th>999</th>\n",
       "      <td>Player_1000</td>\n",
       "      <td>4</td>\n",
       "      <td>4</td>\n",
       "      <td>5</td>\n",
       "    </tr>\n",
       "    <tr>\n",
       "      <th>0</th>\n",
       "      <td>Total</td>\n",
       "      <td>903</td>\n",
       "      <td>628</td>\n",
       "      <td>1401</td>\n",
       "    </tr>\n",
       "  </tbody>\n",
       "</table>\n",
       "</div>"
      ],
      "text/plain": [
       "          Team_3  Skill_A  Skill_B  Skill_C\n",
       "981   Player_982        1        1        7\n",
       "983   Player_984        2        1        4\n",
       "988   Player_989        4        2        6\n",
       "999  Player_1000        4        4        5\n",
       "0          Total      903      628     1401"
      ]
     },
     "execution_count": 252,
     "metadata": {},
     "output_type": "execute_result"
    }
   ],
   "source": [
    "#show_table(agg(list_of_team[2]).tail())\n",
    "agg(list_of_team[2]).tail()"
   ]
  },
  {
   "cell_type": "code",
   "execution_count": 253,
   "metadata": {},
   "outputs": [
    {
     "data": {
      "text/html": [
       "<div>\n",
       "<style scoped>\n",
       "    .dataframe tbody tr th:only-of-type {\n",
       "        vertical-align: middle;\n",
       "    }\n",
       "\n",
       "    .dataframe tbody tr th {\n",
       "        vertical-align: top;\n",
       "    }\n",
       "\n",
       "    .dataframe thead th {\n",
       "        text-align: right;\n",
       "    }\n",
       "</style>\n",
       "<table border=\"1\" class=\"dataframe\">\n",
       "  <thead>\n",
       "    <tr style=\"text-align: right;\">\n",
       "      <th></th>\n",
       "      <th>Team_5</th>\n",
       "      <th>Skill_A</th>\n",
       "      <th>Skill_B</th>\n",
       "      <th>Skill_C</th>\n",
       "    </tr>\n",
       "  </thead>\n",
       "  <tbody>\n",
       "    <tr>\n",
       "      <th>961</th>\n",
       "      <td>Player_962</td>\n",
       "      <td>8</td>\n",
       "      <td>3</td>\n",
       "      <td>2</td>\n",
       "    </tr>\n",
       "    <tr>\n",
       "      <th>974</th>\n",
       "      <td>Player_975</td>\n",
       "      <td>5</td>\n",
       "      <td>4</td>\n",
       "      <td>3</td>\n",
       "    </tr>\n",
       "    <tr>\n",
       "      <th>989</th>\n",
       "      <td>Player_990</td>\n",
       "      <td>6</td>\n",
       "      <td>6</td>\n",
       "      <td>5</td>\n",
       "    </tr>\n",
       "    <tr>\n",
       "      <th>994</th>\n",
       "      <td>Player_995</td>\n",
       "      <td>6</td>\n",
       "      <td>4</td>\n",
       "      <td>3</td>\n",
       "    </tr>\n",
       "    <tr>\n",
       "      <th>0</th>\n",
       "      <td>Total</td>\n",
       "      <td>1325</td>\n",
       "      <td>588</td>\n",
       "      <td>686</td>\n",
       "    </tr>\n",
       "  </tbody>\n",
       "</table>\n",
       "</div>"
      ],
      "text/plain": [
       "         Team_5  Skill_A  Skill_B  Skill_C\n",
       "961  Player_962        8        3        2\n",
       "974  Player_975        5        4        3\n",
       "989  Player_990        6        6        5\n",
       "994  Player_995        6        4        3\n",
       "0         Total     1325      588      686"
      ]
     },
     "execution_count": 253,
     "metadata": {},
     "output_type": "execute_result"
    }
   ],
   "source": [
    "#show_table(agg(list_of_team[4]).tail())\n",
    "agg(list_of_team[4]).tail()"
   ]
  },
  {
   "cell_type": "code",
   "execution_count": null,
   "metadata": {},
   "outputs": [],
   "source": []
  },
  {
   "cell_type": "code",
   "execution_count": 156,
   "metadata": {},
   "outputs": [
    {
     "name": "stdout",
     "output_type": "stream",
     "text": [
      "Do you want to know how many players are in each team? YES or NOYES\n",
      "      num_of_player\n",
      "Team               \n",
      "1               200\n",
      "2               200\n",
      "3               200\n",
      "4               200\n",
      "5               200\n"
     ]
    }
   ],
   "source": [
    "#console interacte\n",
    "x=input('Do you want to know how many players are in each team? YES or NO')\n",
    "if x==\"YES\":\n",
    "    print(player_in_team(label_players))\n",
    "else:\n",
    "    print(\"okay, maybe later\")"
   ]
  },
  {
   "cell_type": "code",
   "execution_count": null,
   "metadata": {},
   "outputs": [],
   "source": []
  },
  {
   "cell_type": "code",
   "execution_count": 246,
   "metadata": {
    "scrolled": true
   },
   "outputs": [
    {
     "name": "stdout",
     "output_type": "stream",
     "text": [
      "Do you want to add more players? YES or NOYES\n",
      "your player_id is  player_1001\n",
      "Please enter Skill_A score7\n",
      "Please enter Skill_B score8\n",
      "Please enter Skill_C score9\n",
      "this player has been add to the following team\n",
      "          Team_2  Skill_A  Skill_B  Skill_C\n",
      "985   Player_986        9        7        9\n",
      "996   Player_997        8        8        8\n",
      "998   Player_999        7        6        4\n",
      "0    player_1001        7        8        9\n",
      "0          Total     1505     1374     1044\n"
     ]
    }
   ],
   "source": [
    "# it will show the players that have been just add are belongs to which team!\n",
    "x=input('Do you want to add more players? YES or NO')\n",
    "if x==\"NO\":\n",
    "    print('Okay, Maybe later')\n",
    "if x=='YES':\n",
    "    print('your player_id is'+ '  player_'+str(players.Player_id.count()+1))\n",
    "    a=input('Please enter Skill_A score')\n",
    "    b=input('Please enter Skill_B score')\n",
    "    c=input('Please enter Skill_C score')\n",
    "    print('this player has been add to the following team')\n",
    "    players=add_to_players(a,b,c,players)\n",
    "    ho1=split(players)\n",
    "    agg(ho1[1]).tail()\n",
    "    print(agg(ho1[1]).tail())\n",
    "    "
   ]
  },
  {
   "cell_type": "code",
   "execution_count": 254,
   "metadata": {},
   "outputs": [
    {
     "data": {
      "text/html": [
       "<div>\n",
       "<style scoped>\n",
       "    .dataframe tbody tr th:only-of-type {\n",
       "        vertical-align: middle;\n",
       "    }\n",
       "\n",
       "    .dataframe tbody tr th {\n",
       "        vertical-align: top;\n",
       "    }\n",
       "\n",
       "    .dataframe thead th {\n",
       "        text-align: right;\n",
       "    }\n",
       "</style>\n",
       "<table border=\"1\" class=\"dataframe\">\n",
       "  <thead>\n",
       "    <tr style=\"text-align: right;\">\n",
       "      <th></th>\n",
       "      <th>Player_id</th>\n",
       "      <th>Skill_A</th>\n",
       "      <th>Skill_B</th>\n",
       "      <th>Skill_C</th>\n",
       "      <th>Label</th>\n",
       "    </tr>\n",
       "  </thead>\n",
       "  <tbody>\n",
       "    <tr>\n",
       "      <th>996</th>\n",
       "      <td>Player_997</td>\n",
       "      <td>8</td>\n",
       "      <td>8</td>\n",
       "      <td>8</td>\n",
       "      <td>1</td>\n",
       "    </tr>\n",
       "    <tr>\n",
       "      <th>997</th>\n",
       "      <td>Player_998</td>\n",
       "      <td>1</td>\n",
       "      <td>3</td>\n",
       "      <td>3</td>\n",
       "      <td>0</td>\n",
       "    </tr>\n",
       "    <tr>\n",
       "      <th>998</th>\n",
       "      <td>Player_999</td>\n",
       "      <td>7</td>\n",
       "      <td>6</td>\n",
       "      <td>4</td>\n",
       "      <td>1</td>\n",
       "    </tr>\n",
       "    <tr>\n",
       "      <th>999</th>\n",
       "      <td>Player_1000</td>\n",
       "      <td>4</td>\n",
       "      <td>4</td>\n",
       "      <td>5</td>\n",
       "      <td>2</td>\n",
       "    </tr>\n",
       "    <tr>\n",
       "      <th>0</th>\n",
       "      <td>player_1001</td>\n",
       "      <td>7</td>\n",
       "      <td>8</td>\n",
       "      <td>9</td>\n",
       "      <td>1</td>\n",
       "    </tr>\n",
       "  </tbody>\n",
       "</table>\n",
       "</div>"
      ],
      "text/plain": [
       "       Player_id  Skill_A  Skill_B  Skill_C  Label\n",
       "996   Player_997        8        8        8      1\n",
       "997   Player_998        1        3        3      0\n",
       "998   Player_999        7        6        4      1\n",
       "999  Player_1000        4        4        5      2\n",
       "0    player_1001        7        8        9      1"
      ]
     },
     "execution_count": 254,
     "metadata": {},
     "output_type": "execute_result"
    }
   ],
   "source": [
    "#the 1001 player has been added to data \n",
    "#show_table(players.tail())\n",
    "players.tail()"
   ]
  }
 ],
 "metadata": {
  "kernelspec": {
   "display_name": "Python 3",
   "language": "python",
   "name": "python3"
  },
  "language_info": {
   "codemirror_mode": {
    "name": "ipython",
    "version": 3
   },
   "file_extension": ".py",
   "mimetype": "text/x-python",
   "name": "python",
   "nbconvert_exporter": "python",
   "pygments_lexer": "ipython3",
   "version": "3.6.5"
  }
 },
 "nbformat": 4,
 "nbformat_minor": 2
}
